{
  "nbformat": 4,
  "nbformat_minor": 0,
  "metadata": {
    "colab": {
      "provenance": []
    },
    "kernelspec": {
      "name": "python3",
      "display_name": "Python 3"
    },
    "language_info": {
      "name": "python"
    }
  },
  "cells": [
    {
      "cell_type": "code",
      "execution_count": null,
      "metadata": {
        "colab": {
          "base_uri": "https://localhost:8080/"
        },
        "id": "EkG-nuxScht0",
        "outputId": "66e22db2-3b13-4c10-98c3-e5e9f11ad6f2"
      },
      "outputs": [
        {
          "output_type": "stream",
          "name": "stdout",
          "text": [
            "Requirement already satisfied: pandas in /usr/local/lib/python3.10/dist-packages (1.5.3)\n",
            "Requirement already satisfied: python-dateutil>=2.8.1 in /usr/local/lib/python3.10/dist-packages (from pandas) (2.8.2)\n",
            "Requirement already satisfied: pytz>=2020.1 in /usr/local/lib/python3.10/dist-packages (from pandas) (2023.3.post1)\n",
            "Requirement already satisfied: numpy>=1.21.0 in /usr/local/lib/python3.10/dist-packages (from pandas) (1.23.5)\n",
            "Requirement already satisfied: six>=1.5 in /usr/local/lib/python3.10/dist-packages (from python-dateutil>=2.8.1->pandas) (1.16.0)\n"
          ]
        }
      ],
      "source": [
        "pip install pandas"
      ]
    },
    {
      "cell_type": "markdown",
      "source": [
        "**What is the shape of \"movies.csv\"?**\n"
      ],
      "metadata": {
        "id": "d3Z7qBLCsXi_"
      }
    },
    {
      "cell_type": "code",
      "source": [
        "import pandas as pd\n",
        "\n",
        "movies_df = pd.read_csv('movies.csv')\n",
        "print(\"Shape of 'movies.csv':\", movies_df.shape)\n"
      ],
      "metadata": {
        "colab": {
          "base_uri": "https://localhost:8080/"
        },
        "id": "QPsihtD6qqBG",
        "outputId": "98a4acae-cc67-48a9-ba70-ff372ddc3521"
      },
      "execution_count": 30,
      "outputs": [
        {
          "output_type": "stream",
          "name": "stdout",
          "text": [
            "Shape of 'movies.csv': (9742, 3)\n"
          ]
        }
      ]
    },
    {
      "cell_type": "markdown",
      "source": [
        "**What is the shape of \"ratings.csv\"?**\n",
        "*"
      ],
      "metadata": {
        "id": "CzMHOjlmsmY5"
      }
    },
    {
      "cell_type": "code",
      "source": [
        "import pandas as pd\n",
        "\n",
        "ratings_df = pd.read_csv('ratings.csv')\n",
        "\n",
        "print(\"Shape of 'ratings.csv':\", ratings_df.shape)\n"
      ],
      "metadata": {
        "colab": {
          "base_uri": "https://localhost:8080/"
        },
        "id": "t84mRLXEqqRV",
        "outputId": "e0d95f58-bb10-41c0-884b-1411c4ae1c9d"
      },
      "execution_count": 32,
      "outputs": [
        {
          "output_type": "stream",
          "name": "stdout",
          "text": [
            "Shape of 'ratings.csv': (100836, 4)\n"
          ]
        }
      ]
    },
    {
      "cell_type": "markdown",
      "source": [
        "**How many unique \"userId\" are available in \"ratings.csv\"?**\n"
      ],
      "metadata": {
        "id": "nmvHEyMZst6G"
      }
    },
    {
      "cell_type": "code",
      "source": [
        "import pandas as pd\n",
        "\n",
        "# Read the 'ratings.csv' file\n",
        "ratings_df = pd.read_csv('ratings.csv')\n",
        "\n",
        "unique_user_ids = ratings_df['userId'].unique()\n",
        "\n",
        "\n",
        "num_unique_user_ids = len(unique_user_ids)\n",
        "\n",
        "print(\"Number of unique userIds in 'ratings.csv':\", num_unique_user_ids)\n"
      ],
      "metadata": {
        "colab": {
          "base_uri": "https://localhost:8080/"
        },
        "id": "jQa6n6D0qqa1",
        "outputId": "bfaea027-ab16-4128-87b5-7b78c5be9e2b"
      },
      "execution_count": 34,
      "outputs": [
        {
          "output_type": "stream",
          "name": "stdout",
          "text": [
            "Number of unique userIds in 'ratings.csv': 610\n"
          ]
        }
      ]
    },
    {
      "cell_type": "markdown",
      "source": [
        "**Which movie has recieved maximum number of user ratings?**"
      ],
      "metadata": {
        "id": "k931OUt3sy-r"
      }
    },
    {
      "cell_type": "code",
      "source": [
        "import pandas as pd\n",
        "\n",
        "ratings_df = pd.read_csv('ratings.csv')\n",
        "\n",
        "movies_df = pd.read_csv('movies.csv')\n",
        "\n",
        "movie_ratings = ratings_df.groupby('movieId')['rating'].sum()\n",
        "\n",
        "# Find the movie with the maximum ratings\n",
        "max_rated_movie_id = movie_ratings.idxmax()\n",
        "\n",
        "max_rated_movie_title = movies_df[movies_df['movieId'] == max_rated_movie_id]['title'].iloc[0]\n",
        "\n",
        "# Print the result\n",
        "print(\"Movie with Maximum Ratings:\")\n",
        "print(\"Movie ID:\", max_rated_movie_id)\n",
        "print(\"Movie Title:\", max_rated_movie_title)\n",
        "\n",
        "\n",
        "\n"
      ],
      "metadata": {
        "colab": {
          "base_uri": "https://localhost:8080/"
        },
        "id": "EfB3kYBxdBUf",
        "outputId": "1fd0b77e-af5a-4de2-bbe9-4c136e802fa3"
      },
      "execution_count": null,
      "outputs": [
        {
          "output_type": "stream",
          "name": "stdout",
          "text": [
            "Movie with Maximum Ratings:\n",
            "Movie ID: 318\n",
            "Movie Title: Shawshank Redemption, The (1994)\n"
          ]
        }
      ]
    },
    {
      "cell_type": "markdown",
      "source": [
        "**Select all the correct tags submitted by users to \"Matrix, The (1999)\" movie?**"
      ],
      "metadata": {
        "id": "48TFhzN0s5aT"
      }
    },
    {
      "cell_type": "code",
      "source": [
        "import pandas as pd\n",
        "\n",
        "\n",
        "tags_df = pd.read_csv('tags.csv')\n",
        "\n",
        "movies_df = pd.read_csv('movies.csv')\n",
        "\n",
        "matrix_movie_id = movies_df[movies_df['title'] == 'Matrix, The (1999)']['movieId'].iloc[0]\n",
        "\n",
        "matrix_tags = tags_df[tags_df['movieId'] == matrix_movie_id]['tag']\n",
        "\n",
        "print(\"Tags for 'Matrix, The (1999)':\")\n",
        "print(matrix_tags)\n"
      ],
      "metadata": {
        "colab": {
          "base_uri": "https://localhost:8080/"
        },
        "id": "AEnwbgwndbjq",
        "outputId": "9f312119-0603-41af-b15e-c99888452049"
      },
      "execution_count": 36,
      "outputs": [
        {
          "output_type": "stream",
          "name": "stdout",
          "text": [
            "Tags for 'Matrix, The (1999)':\n",
            "815           martial arts\n",
            "816                 sci-fi\n",
            "1646    alternate universe\n",
            "2794            philosophy\n",
            "2795      post apocalyptic\n",
            "Name: tag, dtype: object\n"
          ]
        }
      ]
    },
    {
      "cell_type": "markdown",
      "source": [
        "**What is the average user rating for movie named \"Terminator 2: Judgment Day (1991)\"?**"
      ],
      "metadata": {
        "id": "zuG6XLJ6s9c_"
      }
    },
    {
      "cell_type": "code",
      "source": [
        "import pandas as pd\n",
        "\n",
        "\n",
        "ratings_df = pd.read_csv('ratings.csv')\n",
        "movies_df = pd.read_csv('movies.csv')\n",
        "\n",
        "# Find the movieId for \"Terminator 2: Judgment Day (1991)\"\n",
        "terminator_movie_id = movies_df[movies_df['title'] == 'Terminator 2: Judgment Day (1991)']['movieId'].iloc[0]\n",
        "average_rating = ratings_df[ratings_df['movieId'] == terminator_movie_id]['rating'].mean()\n",
        "\n",
        "# Print the result\n",
        "print(f\"Average User Rating for 'Terminator 2: Judgment Day (1991)': {average_rating:.2f}\")\n"
      ],
      "metadata": {
        "colab": {
          "base_uri": "https://localhost:8080/"
        },
        "id": "rI51y5ghgx_X",
        "outputId": "382f8888-bcfd-4915-bcfc-9dbb1fbd42b0"
      },
      "execution_count": 37,
      "outputs": [
        {
          "output_type": "stream",
          "name": "stdout",
          "text": [
            "Average User Rating for 'Terminator 2: Judgment Day (1991)': 3.97\n"
          ]
        }
      ]
    },
    {
      "cell_type": "markdown",
      "source": [
        "**How does the data distribution of user ratings for \"Fight Club (1999)\" movie looks like?**"
      ],
      "metadata": {
        "id": "U8rVj77wtC38"
      }
    },
    {
      "cell_type": "code",
      "source": [
        "import pandas as pd\n",
        "import matplotlib.pyplot as plt\n",
        "\n",
        "\n",
        "ratings_df = pd.read_csv('ratings.csv')\n",
        "\n",
        "movies_df = pd.read_csv('movies.csv')\n",
        "\n",
        "fight_club_movie_id = movies_df[movies_df['title'] == 'Fight Club (1999)']['movieId'].iloc[0]\n",
        "\n",
        "fight_club_ratings = ratings_df[ratings_df['movieId'] == fight_club_movie_id]['rating']\n",
        "\n",
        "# Plot a histogram\n",
        "plt.figure(figsize=(10, 6))\n",
        "plt.hist(fight_club_ratings, bins=5, edgecolor='black', alpha=0.7)\n",
        "plt.title('Distribution of User Ratings for \"Fight Club (1999)\"')\n",
        "plt.xlabel('Rating')\n",
        "plt.ylabel('Number of Ratings')\n",
        "plt.show()\n",
        "\n",
        "# Determine the type of distribution\n",
        "mean_rating = fight_club_ratings.mean()\n",
        "median_rating = fight_club_ratings.median()\n",
        "\n",
        "if mean_rating > median_rating:\n",
        "    print(\"The distribution is positively skewed.\")\n",
        "elif mean_rating < median_rating:\n",
        "    print(\"The distribution is negatively skewed.\")\n",
        "else:\n",
        "    print(\"The distribution is approximately symmetric.\")\n"
      ],
      "metadata": {
        "colab": {
          "base_uri": "https://localhost:8080/",
          "height": 581
        },
        "id": "WklBbnUpg_ov",
        "outputId": "4d8c3a1c-2680-49b1-8c4f-1f549a00e1e3"
      },
      "execution_count": 38,
      "outputs": [
        {
          "output_type": "display_data",
          "data": {
            "text/plain": [
              "<Figure size 1000x600 with 1 Axes>"
            ],
            "image/png": "[encoded data removed]"
          },
          "metadata": {}
        },
        {
          "output_type": "stream",
          "name": "stdout",
          "text": [
            "The distribution is negatively skewed.\n"
          ]
        }
      ]
    },
    {
      "cell_type": "markdown",
      "source": [
        "**Which movie is the most popular based on  average user ratings?**\n"
      ],
      "metadata": {
        "id": "rwpR_fR_tJLg"
      }
    },
    {
      "cell_type": "code",
      "source": [
        "import pandas as pd\n",
        "\n",
        "ratings_df = pd.read_csv('ratings.csv')\n",
        "movies_df = pd.read_csv('movies.csv')\n",
        "grouped_ratings = ratings_df.groupby('movieId')['rating'].agg(['count', 'mean']).reset_index()\n",
        "merged_df = pd.merge(movies_df, grouped_ratings, on='movieId', how='inner')\n",
        "filtered_df = merged_df[merged_df['count'] > 50]\n",
        "\n",
        "most_popular_movie = filtered_df[filtered_df['mean'] == filtered_df['mean'].max()]\n",
        "\n",
        "# Print the result\n",
        "print(\"Most Popular Movie based on Average User Ratings:\")\n",
        "print(\"Movie Title:\", most_popular_movie['title'].iloc[0])\n",
        "print(\"Average User Rating:\", most_popular_movie['mean'].iloc[0])\n"
      ],
      "metadata": {
        "colab": {
          "base_uri": "https://localhost:8080/"
        },
        "id": "jzPGMnAUhlJa",
        "outputId": "4f9e2180-de1f-4bde-a8f3-bef7dd3ff8c5"
      },
      "execution_count": null,
      "outputs": [
        {
          "output_type": "stream",
          "name": "stdout",
          "text": [
            "Most Popular Movie based on Average User Ratings:\n",
            "Movie Title: Shawshank Redemption, The (1994)\n",
            "Average User Rating: 4.429022082018927\n"
          ]
        }
      ]
    },
    {
      "cell_type": "markdown",
      "source": [
        "**Select all the correct options which comes under top 5 popular movies based on number of user ratings.**\n",
        "\n"
      ],
      "metadata": {
        "id": "aWiceZDPtRNP"
      }
    },
    {
      "cell_type": "code",
      "source": [
        "\n",
        "ratings_df = pd.read_csv('ratings.csv')\n",
        "\n",
        "movies_df = pd.read_csv('movies.csv')\n",
        "\n",
        "grouped_ratings = ratings_df.groupby('movieId')['rating'].agg(['count', 'mean']).reset_index()\n",
        "\n",
        "merged_df = pd.merge(movies_df, grouped_ratings, on='movieId', how='inner')\n",
        "\n",
        "filtered_df = merged_df[merged_df['count'] > 50]\n",
        "\n",
        "# Top 5 popular movies based on number of user ratings\n",
        "top_5_popular_movies = filtered_df.sort_values(by='count', ascending=False).head(5)\n",
        "\n",
        "# Print the result\n",
        "print(\"Top 5 Popular Movies based on Number of User Ratings:\")\n",
        "print(top_5_popular_movies[['title', 'count']])\n"
      ],
      "metadata": {
        "colab": {
          "base_uri": "https://localhost:8080/"
        },
        "id": "LAtHGE9ihunS",
        "outputId": "a2ca1111-2a32-4128-e5e5-2d032a6b308e"
      },
      "execution_count": 39,
      "outputs": [
        {
          "output_type": "stream",
          "name": "stdout",
          "text": [
            "Top 5 Popular Movies based on Number of User Ratings:\n",
            "                                 title  count\n",
            "314                Forrest Gump (1994)    329\n",
            "277   Shawshank Redemption, The (1994)    317\n",
            "257                Pulp Fiction (1994)    307\n",
            "510   Silence of the Lambs, The (1991)    279\n",
            "1938                Matrix, The (1999)    278\n"
          ]
        }
      ]
    },
    {
      "cell_type": "markdown",
      "source": [
        "**Which Sci-Fi movie is \"third most popular\" based on the number of user ratings?**"
      ],
      "metadata": {
        "id": "TtI677AttclF"
      }
    },
    {
      "cell_type": "code",
      "source": [
        "\n",
        "ratings_df = pd.read_csv('ratings.csv')\n",
        "\n",
        "movies_df = pd.read_csv('movies.csv')\n",
        "grouped_ratings = ratings_df.groupby('movieId')['rating'].agg(['count', 'mean']).reset_index()\n",
        "\n",
        "# Step 2: Inner join with movies.csv\n",
        "merged_df = pd.merge(movies_df, grouped_ratings, on='movieId', how='inner')\n",
        "\n",
        "# Step 3: Filter only those movies with more than 50 user ratings\n",
        "filtered_df = merged_df[merged_df['count'] > 50]\n",
        "\n",
        "# Filter Sci-Fi movies\n",
        "sci_fi_movies = filtered_df[filtered_df['genres'].str.contains('Sci-Fi')]\n",
        "\n",
        "sorted_sci_fi_movies = sci_fi_movies.sort_values(by='count', ascending=False)\n",
        "\n",
        "# Get the third most popular Sci-Fi movie\n",
        "third_most_popular_sci_fi_movie = sorted_sci_fi_movies.iloc[2]\n",
        "\n",
        "# Print the result\n",
        "print(\"Third Most Popular Sci-Fi Movie based on Number of User Ratings:\")\n",
        "print(\"Movie Title:\", third_most_popular_sci_fi_movie['title'])\n",
        "print(\"Number of User Ratings:\", third_most_popular_sci_fi_movie['count'])\n"
      ],
      "metadata": {
        "colab": {
          "base_uri": "https://localhost:8080/"
        },
        "id": "b89GM0ARiCZ7",
        "outputId": "24d2e98e-cb44-43c7-c1c8-a2e4e37a8b30"
      },
      "execution_count": null,
      "outputs": [
        {
          "output_type": "stream",
          "name": "stdout",
          "text": [
            "Third Most Popular Sci-Fi Movie based on Number of User Ratings:\n",
            "Movie Title: Jurassic Park (1993)\n",
            "Number of User Ratings: 238\n"
          ]
        }
      ]
    },
    {
      "cell_type": "markdown",
      "source": [
        "**Mention the movieId of the movie which has the highest IMDB rating.**\n"
      ],
      "metadata": {
        "id": "8sNjBULztpRp"
      }
    },
    {
      "cell_type": "code",
      "source": [
        "import pandas as pd\n",
        "import requests\n",
        "from bs4 import BeautifulSoup\n",
        "\n",
        "# Read the 'links.csv' file\n",
        "links_df = pd.read_csv('links.csv')\n",
        "\n",
        "# Create an empty DataFrame to store movie ratings\n",
        "imdb_ratings_df = pd.DataFrame(columns=['movieId', 'IMDbRating'])\n",
        "\n",
        "# Function to scrape IMDb rating for a given IMDb ID\n",
        "def scrape_imdb_rating(imdb_id):\n",
        "    imdb_url = f'https://www.imdb.com/title/{imdb_id}/'\n",
        "    response = requests.get(imdb_url)\n",
        "\n",
        "    if response.status_code == 200:\n",
        "        soup = BeautifulSoup(response.text, 'html.parser')\n",
        "        rating_element = soup.find('span', {'itemprop': 'ratingValue'})\n",
        "\n",
        "        if rating_element:\n",
        "            imdb_rating = float(rating_element.text)\n",
        "            return imdb_rating\n",
        "\n",
        "    return None\n",
        "\n",
        "# Loop through each row in 'links.csv' and scrape IMDb rating\n",
        "for index, row in links_df.iterrows():\n",
        "    movie_id = row['movieId']\n",
        "    imdb_id = row['imdbId']\n",
        "\n",
        "    imdb_rating = scrape_imdb_rating(imdb_id)\n",
        "\n",
        "    if imdb_rating is not None:\n",
        "        imdb_ratings_df = imdb_ratings_df.append({'movieId': movie_id, 'IMDbRating': imdb_rating}, ignore_index=True)\n",
        "\n",
        "# Find the movie with the highest IMDb rating\n",
        "highest_rated_movie = imdb_ratings_df.loc[imdb_ratings_df['IMDbRating'].idxmax()]\n",
        "\n",
        "# Print the result\n",
        "print(\"Movie with the Highest IMDb Rating:\")\n",
        "print(\"Movie ID:\", int(highest_rated_movie['movieId']))\n",
        "print(\"IMDb Rating:\", highest_rated_movie['IMDbRating'])\n",
        "\n"
      ],
      "metadata": {
        "id": "ZciQ76UAjbh9"
      },
      "execution_count": null,
      "outputs": []
    },
    {
      "cell_type": "markdown",
      "source": [
        "**Mention the movieId of the \"Sci-Fi\" movie which has the highest IMDB rating.**"
      ],
      "metadata": {
        "id": "e2Ys_e0yut5h"
      }
    },
    {
      "cell_type": "code",
      "source": [
        "import pandas as pd\n",
        "import requests\n",
        "from bs4 import BeautifulSoup\n",
        "\n",
        "# Read the 'links.csv' and 'movies.csv' files\n",
        "links_df = pd.read_csv('links.csv')\n",
        "movies_df = pd.read_csv('movies.csv')\n",
        "\n",
        "merged_df = pd.merge(links_df, movies_df, on='movieId')\n",
        "\n",
        "sci_fi_movies_df = merged_df[merged_df['genres'].str.contains('Sci-Fi')]\n",
        "\n",
        "sci_fi_imdb_ratings_df = pd.DataFrame(columns=['movieId', 'IMDbRating'])\n",
        "\n",
        "\n",
        "def scrape_imdb_rating(imdb_id):\n",
        "    imdb_url = f'https://www.imdb.com/title/{imdb_id}/'\n",
        "    response = requests.get(imdb_url)\n",
        "\n",
        "    if response.status_code == 200:\n",
        "        soup = BeautifulSoup(response.text, 'html.parser')\n",
        "        rating_element = soup.find('span', {'itemprop': 'ratingValue'})\n",
        "\n",
        "        if rating_element:\n",
        "            imdb_rating = float(rating_element.text)\n",
        "            return imdb_rating\n",
        "\n",
        "    return None\n",
        "\n",
        "\n",
        "for index, row in sci_fi_movies_df.iterrows():\n",
        "    movie_id = row['movieId']\n",
        "    imdb_id = row['imdbId']\n",
        "\n",
        "    imdb_rating = scrape_imdb_rating(imdb_id)\n",
        "\n",
        "    if imdb_rating is not None:\n",
        "        sci_fi_imdb_ratings_df = sci_fi_imdb_ratings_df.append({'movieId': movie_id, 'IMDbRating': imdb_rating}, ignore_index=True)\n",
        "\n",
        "# Find the Sci-Fi movie with the highest IMDb rating\n",
        "highest_rated_sci_fi_movie = sci_fi_imdb_ratings_df.loc[sci_fi_imdb_ratings_df['IMDbRating'].idxmax()]\n",
        "\n",
        "# Print the result\n",
        "print(\"Sci-Fi Movie with the Highest IMDb Rating:\")\n",
        "print(\"Movie ID:\", int(highest_rated_sci_fi_movie['movieId']))\n",
        "print(\"IMDb Rating:\", highest_rated_sci_fi_movie['IMDbRating'])\n"
      ],
      "metadata": {
        "id": "DLiuO5WTujek"
      },
      "execution_count": null,
      "outputs": []
    }
  ]
}